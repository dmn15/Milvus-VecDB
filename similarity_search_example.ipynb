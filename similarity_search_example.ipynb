{
 "cells": [
  {
   "cell_type": "code",
   "execution_count": 1,
   "id": "2f9ff075-d43c-40a1-9a80-b5e74375583a",
   "metadata": {},
   "outputs": [],
   "source": [
    "import os\n",
    "import tensorflow as tf\n",
    "import tensorflow_hub as hub\n",
    "import numpy as np\n",
    "import os\n",
    "import re\n",
    "from pymilvus import Collection, FieldSchema, CollectionSchema, DataType, connections, utility"
   ]
  },
  {
   "cell_type": "code",
   "execution_count": 2,
   "id": "c328944e-5ddc-4b03-90da-02c38636e31a",
   "metadata": {},
   "outputs": [],
   "source": [
    "module_url = \"https://tfhub.dev/google/universal-sentence-encoder-large/5\"\n",
    "model = hub.load(module_url)"
   ]
  },
  {
   "cell_type": "code",
   "execution_count": 3,
   "id": "6d295c20-c8d0-4707-bec0-e27c9b17fe30",
   "metadata": {},
   "outputs": [
    {
     "data": {
      "text/plain": [
       "0      CHAPTER IV. \\n\\nNotwithstanding the earnest in...\n",
       "1      (CNN) -- Polk County, Florida, detectives arre...\n",
       "2      Malawi (, or ; or [maláwi]), officially the Re...\n",
       "3      CHAPTER XXXII. \\n\\nMR. GILMORE'S SUCCESS. \\n\\n...\n",
       "4      Computer security, also known as cybersecurity...\n",
       "                             ...                        \n",
       "495    CHAPTER VII \\n\\nBut, ah me! she's a heart of s...\n",
       "496    North America is a continent entirely within t...\n",
       "497    Memphis is a city in the southwestern corner o...\n",
       "498    Biodiversity, a contraction of \"biological div...\n",
       "499    Paul the pear lived in a bowl on the table. He...\n",
       "Name: Story, Length: 500, dtype: object"
      ]
     },
     "execution_count": 3,
     "metadata": {},
     "output_type": "execute_result"
    }
   ],
   "source": [
    "import pandas as pd\n",
    "df = pd.read_csv('train.csv')\n",
    "df = df.iloc[0:500,0]\n",
    "df"
   ]
  },
  {
   "cell_type": "code",
   "execution_count": 4,
   "id": "fba22ff2-f536-4d1a-a056-ec9214a05457",
   "metadata": {},
   "outputs": [
    {
     "data": {
      "text/html": [
       "<div>\n",
       "<style scoped>\n",
       "    .dataframe tbody tr th:only-of-type {\n",
       "        vertical-align: middle;\n",
       "    }\n",
       "\n",
       "    .dataframe tbody tr th {\n",
       "        vertical-align: top;\n",
       "    }\n",
       "\n",
       "    .dataframe thead th {\n",
       "        text-align: right;\n",
       "    }\n",
       "</style>\n",
       "<table border=\"1\" class=\"dataframe\">\n",
       "  <thead>\n",
       "    <tr style=\"text-align: right;\">\n",
       "      <th></th>\n",
       "      <th>Story</th>\n",
       "    </tr>\n",
       "  </thead>\n",
       "  <tbody>\n",
       "    <tr>\n",
       "      <th>0</th>\n",
       "      <td>CHAPTER IV. \\n\\nNotwithstanding the earnest in...</td>\n",
       "    </tr>\n",
       "    <tr>\n",
       "      <th>1</th>\n",
       "      <td>(CNN) -- Polk County, Florida, detectives arre...</td>\n",
       "    </tr>\n",
       "    <tr>\n",
       "      <th>2</th>\n",
       "      <td>Malawi (, or ; or [maláwi]), officially the Re...</td>\n",
       "    </tr>\n",
       "    <tr>\n",
       "      <th>3</th>\n",
       "      <td>CHAPTER XXXII. \\n\\nMR. GILMORE'S SUCCESS. \\n\\n...</td>\n",
       "    </tr>\n",
       "    <tr>\n",
       "      <th>4</th>\n",
       "      <td>Computer security, also known as cybersecurity...</td>\n",
       "    </tr>\n",
       "    <tr>\n",
       "      <th>...</th>\n",
       "      <td>...</td>\n",
       "    </tr>\n",
       "    <tr>\n",
       "      <th>495</th>\n",
       "      <td>CHAPTER VII \\n\\nBut, ah me! she's a heart of s...</td>\n",
       "    </tr>\n",
       "    <tr>\n",
       "      <th>496</th>\n",
       "      <td>North America is a continent entirely within t...</td>\n",
       "    </tr>\n",
       "    <tr>\n",
       "      <th>497</th>\n",
       "      <td>Memphis is a city in the southwestern corner o...</td>\n",
       "    </tr>\n",
       "    <tr>\n",
       "      <th>498</th>\n",
       "      <td>Biodiversity, a contraction of \"biological div...</td>\n",
       "    </tr>\n",
       "    <tr>\n",
       "      <th>499</th>\n",
       "      <td>Paul the pear lived in a bowl on the table. He...</td>\n",
       "    </tr>\n",
       "  </tbody>\n",
       "</table>\n",
       "<p>500 rows × 1 columns</p>\n",
       "</div>"
      ],
      "text/plain": [
       "                                                 Story\n",
       "0    CHAPTER IV. \\n\\nNotwithstanding the earnest in...\n",
       "1    (CNN) -- Polk County, Florida, detectives arre...\n",
       "2    Malawi (, or ; or [maláwi]), officially the Re...\n",
       "3    CHAPTER XXXII. \\n\\nMR. GILMORE'S SUCCESS. \\n\\n...\n",
       "4    Computer security, also known as cybersecurity...\n",
       "..                                                 ...\n",
       "495  CHAPTER VII \\n\\nBut, ah me! she's a heart of s...\n",
       "496  North America is a continent entirely within t...\n",
       "497  Memphis is a city in the southwestern corner o...\n",
       "498  Biodiversity, a contraction of \"biological div...\n",
       "499  Paul the pear lived in a bowl on the table. He...\n",
       "\n",
       "[500 rows x 1 columns]"
      ]
     },
     "execution_count": 4,
     "metadata": {},
     "output_type": "execute_result"
    }
   ],
   "source": [
    "df = pd.DataFrame(df)\n",
    "df"
   ]
  },
  {
   "cell_type": "code",
   "execution_count": 5,
   "id": "000e0f0d-6e0e-46fd-bdce-70c6a313d00a",
   "metadata": {},
   "outputs": [],
   "source": [
    "import re\n",
    "# Lowercasing the text\n",
    "df['cleaned']=df['Story'].apply(lambda x:x.lower())\n",
    "\n",
    "# Dictionary of english Contractions\n",
    "contractions_dict = { \"ain't\": \"are not\",\"'s\":\" is\",\"aren't\": \"are not\",\"can't\": \"can not\",\"can't've\": \"cannot have\",\n",
    "\"'cause\": \"because\",\"could've\": \"could have\",\"couldn't\": \"could not\",\"couldn't've\": \"could not have\",\n",
    "\"didn't\": \"did not\",\"doesn't\": \"does not\",\"don't\": \"do not\",\"hadn't\": \"had not\",\"hadn't've\": \"had not have\",\n",
    "\"hasn't\": \"has not\",\"haven't\": \"have not\",\"he'd\": \"he would\",\"he'd've\": \"he would have\",\"he'll\": \"he will\",\n",
    "\"he'll've\": \"he will have\",\"how'd\": \"how did\",\"how'd'y\": \"how do you\",\"how'll\": \"how will\",\"i'd\": \"i would\",\n",
    "\"i'd've\": \"i would have\",\"i'll\": \"i will\",\"i'll've\": \"i will have\",\"i'm\": \"i am\",\"i've\": \"i have\",\n",
    "\"isn't\": \"is not\",\"it'd\": \"it would\",\"it'd've\": \"it would have\",\"it'll\": \"it will\",\"it'll've\": \"it will have\",\n",
    "\"let's\": \"let us\",\"ma'am\": \"madam\",\"mayn't\": \"may not\",\"might've\": \"might have\",\"mightn't\": \"might not\",\n",
    "\"mightn't've\": \"might not have\",\"must've\": \"must have\",\"mustn't\": \"must not\",\"mustn't've\": \"must not have\",\n",
    "\"needn't\": \"need not\",\"needn't've\": \"need not have\",\"o'clock\": \"of the clock\",\"oughtn't\": \"ought not\",\n",
    "\"oughtn't've\": \"ought not have\",\"shan't\": \"shall not\",\"sha'n't\": \"shall not\",\n",
    "\"shan't've\": \"shall not have\",\"shed\": \"she would\",\"she'd've\": \"she would have\",\"she'll\": \"she will\",\n",
    "\"she'll've\": \"she will have\",\"should've\": \"should have\",\"shouldn't\": \"should not\",\n",
    "\"shouldn't've\": \"should not have\",\"so've\": \"so have\",\"that'd\": \"that would\",\"that'd've\": \"that would have\",\n",
    "\"there'd\": \"there would\",\"there'd've\": \"there would have\",\n",
    "\"they'd\": \"they would\",\"they'd've\": \"they would have\",\"they'll\": \"they will\",\"they'll've\": \"they will have\",\n",
    "\"they're\": \"they are\",\"they've\": \"they have\",\"to've\": \"to have\",\"wasn't\": \"was not\",\"we'd\": \"we would\",\n",
    "\"we'd've\": \"we would have\",\"we'll\": \"we will\",\"we'll've\": \"we will have\",\"we're\": \"we are\",\"we've\": \"we have\",\n",
    "\"weren't\": \"were not\",\"what'll\": \"what will\",\"what'll've\": \"what will have\",\"what're\": \"what are\",\n",
    "\"what've\": \"what have\",\"when've\": \"when have\",\"where'd\": \"where did\",\n",
    "\"where've\": \"where have\",\"who'll\": \"who will\",\"who'll've\": \"who' will have\",\"who've\": \"who have\",\n",
    "\"why've\": \"why have\",\"will've\": \"will have\",\"won't\": \"will not\",\"won't've\": \"will not have\",\n",
    "\"would've\": \"would have\",\"wouldn't\": \"would not\",\"wouldn't've\": \"would not have\",\"y'all\": \"you all\",\n",
    "\"y'all'd\": \"you all would\",\"y'all'd've\": \"you all would have\",\"y'all're\": \"you all are\",\"y'all've\": \"you all have\",\n",
    "\"you'd\": \"you would\",\"you'd've\": \"you would have\",\"you'll\": \"you will\",\"you'll've\": \"you will have\",\n",
    "\"you're\": \"you are\",\"you've\": \"you have\"}\n",
    "\n",
    "# Regular expression for finding contractions\n",
    "contractions_re=re.compile('(%s)' % '|'.join(contractions_dict.keys()))\n",
    "\n",
    "# Function for expanding contractions\n",
    "def expand_contractions(text,contractions_dict=contractions_dict):\n",
    "    def replace(match):\n",
    "        return contractions_dict[match.group(0)]\n",
    "    return contractions_re.sub(replace, text)\n",
    "\n",
    "# Expanding Contractions\n",
    "df['cleaned']=df['cleaned'].apply(lambda x:expand_contractions(x))"
   ]
  },
  {
   "cell_type": "code",
   "execution_count": 6,
   "id": "210fec25-12d7-4d2d-86b4-984263ae2171",
   "metadata": {},
   "outputs": [
    {
     "data": {
      "text/html": [
       "<div>\n",
       "<style scoped>\n",
       "    .dataframe tbody tr th:only-of-type {\n",
       "        vertical-align: middle;\n",
       "    }\n",
       "\n",
       "    .dataframe tbody tr th {\n",
       "        vertical-align: top;\n",
       "    }\n",
       "\n",
       "    .dataframe thead th {\n",
       "        text-align: right;\n",
       "    }\n",
       "</style>\n",
       "<table border=\"1\" class=\"dataframe\">\n",
       "  <thead>\n",
       "    <tr style=\"text-align: right;\">\n",
       "      <th></th>\n",
       "      <th>Story</th>\n",
       "      <th>cleaned</th>\n",
       "    </tr>\n",
       "  </thead>\n",
       "  <tbody>\n",
       "    <tr>\n",
       "      <th>0</th>\n",
       "      <td>CHAPTER IV. \\n\\nNotwithstanding the earnest in...</td>\n",
       "      <td>chapter iv. \\n\\nnotwithstanding the earnest in...</td>\n",
       "    </tr>\n",
       "    <tr>\n",
       "      <th>1</th>\n",
       "      <td>(CNN) -- Polk County, Florida, detectives arre...</td>\n",
       "      <td>(cnn) -- polk county, florida, detectives arre...</td>\n",
       "    </tr>\n",
       "    <tr>\n",
       "      <th>2</th>\n",
       "      <td>Malawi (, or ; or [maláwi]), officially the Re...</td>\n",
       "      <td>malawi (, or ; or [maláwi]), officially the re...</td>\n",
       "    </tr>\n",
       "    <tr>\n",
       "      <th>3</th>\n",
       "      <td>CHAPTER XXXII. \\n\\nMR. GILMORE'S SUCCESS. \\n\\n...</td>\n",
       "      <td>chapter xxxii. \\n\\nmr. gilmore is success. \\n\\...</td>\n",
       "    </tr>\n",
       "    <tr>\n",
       "      <th>4</th>\n",
       "      <td>Computer security, also known as cybersecurity...</td>\n",
       "      <td>computer security, also known as cybersecurity...</td>\n",
       "    </tr>\n",
       "  </tbody>\n",
       "</table>\n",
       "</div>"
      ],
      "text/plain": [
       "                                               Story  \\\n",
       "0  CHAPTER IV. \\n\\nNotwithstanding the earnest in...   \n",
       "1  (CNN) -- Polk County, Florida, detectives arre...   \n",
       "2  Malawi (, or ; or [maláwi]), officially the Re...   \n",
       "3  CHAPTER XXXII. \\n\\nMR. GILMORE'S SUCCESS. \\n\\n...   \n",
       "4  Computer security, also known as cybersecurity...   \n",
       "\n",
       "                                             cleaned  \n",
       "0  chapter iv. \\n\\nnotwithstanding the earnest in...  \n",
       "1  (cnn) -- polk county, florida, detectives arre...  \n",
       "2  malawi (, or ; or [maláwi]), officially the re...  \n",
       "3  chapter xxxii. \\n\\nmr. gilmore is success. \\n\\...  \n",
       "4  computer security, also known as cybersecurity...  "
      ]
     },
     "execution_count": 6,
     "metadata": {},
     "output_type": "execute_result"
    }
   ],
   "source": [
    "df.head(5)"
   ]
  },
  {
   "cell_type": "code",
   "execution_count": 7,
   "id": "266333f7-f841-470d-879d-e3e2610491d8",
   "metadata": {},
   "outputs": [],
   "source": [
    "def clean_text(text):\n",
    "    text=re.sub('\\w*\\d\\w*','', text)\n",
    "    text=re.sub('\\n',' ',text)\n",
    "    text=re.sub(r\"http\\S+\", \"\", text)\n",
    "    text=re.sub('[^a-z]',' ',text)\n",
    "    return text\n",
    " \n",
    "# Cleaning corpus using RegEx\n",
    "df['cleaned']=df['cleaned'].apply(lambda x: clean_text(x))"
   ]
  },
  {
   "cell_type": "code",
   "execution_count": 8,
   "id": "02a61e6a-03da-4eba-bd8a-3d113f1b92a3",
   "metadata": {},
   "outputs": [
    {
     "data": {
      "text/html": [
       "<div>\n",
       "<style scoped>\n",
       "    .dataframe tbody tr th:only-of-type {\n",
       "        vertical-align: middle;\n",
       "    }\n",
       "\n",
       "    .dataframe tbody tr th {\n",
       "        vertical-align: top;\n",
       "    }\n",
       "\n",
       "    .dataframe thead th {\n",
       "        text-align: right;\n",
       "    }\n",
       "</style>\n",
       "<table border=\"1\" class=\"dataframe\">\n",
       "  <thead>\n",
       "    <tr style=\"text-align: right;\">\n",
       "      <th></th>\n",
       "      <th>cleaned</th>\n",
       "    </tr>\n",
       "  </thead>\n",
       "  <tbody>\n",
       "    <tr>\n",
       "      <th>0</th>\n",
       "      <td>chapter iv    notwithstanding the earnest inju...</td>\n",
       "    </tr>\n",
       "    <tr>\n",
       "      <th>1</th>\n",
       "      <td>cnn     polk county  florida  detectives arre...</td>\n",
       "    </tr>\n",
       "    <tr>\n",
       "      <th>2</th>\n",
       "      <td>malawi    or   or  mal wi    officially the re...</td>\n",
       "    </tr>\n",
       "    <tr>\n",
       "      <th>3</th>\n",
       "      <td>chapter xxxii    mr  gilmore is success    har...</td>\n",
       "    </tr>\n",
       "    <tr>\n",
       "      <th>4</th>\n",
       "      <td>computer security  also known as cybersecurity...</td>\n",
       "    </tr>\n",
       "    <tr>\n",
       "      <th>...</th>\n",
       "      <td>...</td>\n",
       "    </tr>\n",
       "    <tr>\n",
       "      <th>495</th>\n",
       "      <td>chapter vii   but  ah me  she is a heart of st...</td>\n",
       "    </tr>\n",
       "    <tr>\n",
       "      <th>496</th>\n",
       "      <td>north america is a continent entirely within t...</td>\n",
       "    </tr>\n",
       "    <tr>\n",
       "      <th>497</th>\n",
       "      <td>memphis is a city in the southwestern corner o...</td>\n",
       "    </tr>\n",
       "    <tr>\n",
       "      <th>498</th>\n",
       "      <td>biodiversity  a contraction of  biological div...</td>\n",
       "    </tr>\n",
       "    <tr>\n",
       "      <th>499</th>\n",
       "      <td>paul the pear lived in a bowl on the table  he...</td>\n",
       "    </tr>\n",
       "  </tbody>\n",
       "</table>\n",
       "<p>500 rows × 1 columns</p>\n",
       "</div>"
      ],
      "text/plain": [
       "                                               cleaned\n",
       "0    chapter iv    notwithstanding the earnest inju...\n",
       "1     cnn     polk county  florida  detectives arre...\n",
       "2    malawi    or   or  mal wi    officially the re...\n",
       "3    chapter xxxii    mr  gilmore is success    har...\n",
       "4    computer security  also known as cybersecurity...\n",
       "..                                                 ...\n",
       "495  chapter vii   but  ah me  she is a heart of st...\n",
       "496  north america is a continent entirely within t...\n",
       "497  memphis is a city in the southwestern corner o...\n",
       "498  biodiversity  a contraction of  biological div...\n",
       "499  paul the pear lived in a bowl on the table  he...\n",
       "\n",
       "[500 rows x 1 columns]"
      ]
     },
     "execution_count": 8,
     "metadata": {},
     "output_type": "execute_result"
    }
   ],
   "source": [
    "df.drop(\"Story\",axis = 1, inplace = True)\n",
    "df"
   ]
  },
  {
   "cell_type": "code",
   "execution_count": 9,
   "id": "9ec1c0a6-720f-496f-8779-795865f64cdc",
   "metadata": {},
   "outputs": [],
   "source": [
    "# Function to generate embeddings\n",
    "def embeddings(text):\n",
    "    return np.array(model(text)).flatten().tolist()"
   ]
  },
  {
   "cell_type": "code",
   "execution_count": 13,
   "id": "e498634c-95e9-4283-946a-82c3179ffed0",
   "metadata": {},
   "outputs": [
    {
     "name": "stdout",
     "output_type": "stream",
     "text": [
      "[0.028594959527254105, 0.062198441475629807, 0.10926178097724915, -0.010224954225122929, 0.014060011133551598, -0.04632542282342911, 0.07072386890649796, -0.06861643493175507, -0.08257300406694412, 0.0005479017272591591, -0.020785802975296974, 0.05393010005354881, 0.0385376513004303, -0.04703380912542343, -0.04125058650970459, -0.0327012725174427, -0.0403803326189518, -0.0462595596909523, -0.00848297867923975, 0.07183258980512619, 0.030858321115374565, 0.04788857698440552, 0.03722039982676506, -0.05101475864648819, 0.006195284426212311, 0.012189959175884724, 0.06906178593635559, 0.02678343839943409, 0.04782657325267792, -0.01295535545796156, 0.0023022773675620556, -0.01879492960870266, -0.0128092672675848, 0.07272717356681824, -0.05806437507271767, -0.06611934304237366, 0.00983378104865551, -0.0024549232330173254, -0.03866569697856903, -0.03217332810163498, 0.012122951447963715, 0.0575065053999424, -0.018025750294327736, -0.05521390959620476, 0.06227634847164154, 0.0031091044656932354, 0.01712910085916519, -0.08700525015592575, 0.03467908129096031, -0.005947377998381853, -0.011637161485850811, -0.0813349038362503, 0.008422305807471275, 0.01093357428908348, -0.0007339069852605462, 0.0046134572476148605, 0.013148089870810509, 0.041755352169275284, 0.03498130664229393, -0.013488560914993286, -0.02468813955783844, 0.010393465869128704, -0.012771566398441792, 0.004984749481081963, 0.05647929757833481, -0.003039951203390956, 0.04504626244306564, -0.06340929865837097, 0.06464030593633652, -0.039892129600048065, 0.024718675762414932, 0.03680923953652382, 0.013986882753670216, -0.04476045444607735, 0.031413134187459946, 0.04073357582092285, -0.021126067265868187, -0.04989404231309891, -0.012540129944682121, -0.02189544029533863, -0.0051134563982486725, -0.06631384044885635, 0.07492661476135254, -0.007008778862655163, -0.007999027147889137, 0.03458218649029732, -0.004103563260287046, -0.06016235426068306, -0.027302175760269165, 0.05414644256234169, -0.03833731263875961, 0.07524822652339935, -0.006883858237415552, 0.04821185767650604, -0.045441750437021255, 0.03757317364215851, 0.003268301719799638, 0.03713991120457649, 0.031841132789850235, 0.004316435195505619, -0.008668997325003147, -0.02209276147186756, -0.044732172042131424, -0.053204167634248734, -0.10321757942438126, -0.03927138075232506, 0.005230548791587353, 0.05980994179844856, 0.02839668281376362, 0.0009559610043652356, 0.02345488779246807, -0.026276739314198494, 0.028226010501384735, -0.03426583856344223, -0.0017580894054844975, 0.011231106705963612, -0.042906880378723145, -0.05655145272612572, -0.05911858752369881, 0.048979759216308594, -0.08487293124198914, -0.06294097006320953, -0.025685874745249748, 0.05030865594744682, 0.020546287298202515, 0.0527450256049633, -0.06490851938724518, -0.04156486690044403, -0.02414105273783207, 0.011209161952137947, 0.07196634262800217, -0.09245290607213974, -0.04953205585479736, 0.015448233112692833, -0.05318503454327583, -0.02706669084727764, -0.003937216941267252, -0.09161844104528427, 0.0014626756310462952, 0.0010458148317411542, -0.03327973932027817, 0.005885673221200705, 0.010392055846750736, -0.061546098440885544, 0.020206937566399574, 0.0719628632068634, 0.032527513802051544, -0.026302501559257507, 0.033209413290023804, -0.015701036900281906, -0.04990071803331375, 0.0540880523622036, 0.072431780397892, 0.05081623047590256, 0.014277064241468906, -0.05947549641132355, -0.018786082044243813, 0.04479621723294258, -0.020880036056041718, -0.06009508669376373, 0.015413455665111542, -0.012789429165422916, -0.041620682924985886, 0.031238427385687828, 0.03371252492070198, -0.005607228260487318, -0.021779075264930725, -0.03316890820860863, 0.03767261281609535, 0.057299837470054626, -0.05490371957421303, -0.005468662362545729, 0.011687460355460644, 0.0026494688354432583, 0.009515009820461273, -0.0031651738099753857, 0.06626439094543457, 0.008202732540667057, 0.06199762225151062, 0.045217350125312805, 0.08456727117300034, -0.013535396195948124, -0.02332868054509163, 0.001221931423060596, -0.0214878898113966, -0.04040633514523506, -0.035506900399923325, -0.004033961798995733, 0.0373002327978611, -0.06593829393386841, 0.007661011070013046, 0.0474083311855793, -0.02906675636768341, -0.02944423072040081, 0.0349610410630703, 0.05495738983154297, 0.06054755300283432, 0.04899941012263298, -0.00032576173543930054, -0.03705853596329689, 0.0024932019878178835, 0.041929710656404495, -0.05832761526107788, -0.02289433777332306, 0.10230166465044022, 0.012526055797934532, 0.00045704972581006587, -0.021906260401010513, 0.042021363973617554, -0.024433558806777, 0.015230292454361916, -0.026013504713773727, -0.016324801370501518, -0.01879982464015484, -0.007053155917674303, -0.0016963542439043522, 0.03762861713767052, -0.07640227675437927, -0.008700546808540821, -0.03639823943376541, 0.011703248135745525, -0.023226095363497734, 0.00658733956515789, 0.07160884141921997, 0.022635454311966896, -0.05539221316576004, -0.007019082549959421, 0.18640509247779846, -0.04328642040491104, -0.03661363199353218, -0.03148054704070091, 0.03335178643465042, -0.00406078714877367, -0.020026028156280518, -0.024877231568098068, 0.07274571061134338, -0.09223399311304092, 0.0017761613707989454, -0.025673871859908104, 0.052867259830236435, -0.004857970401644707, 0.06972862780094147, -0.028799884021282196, 0.028393929824233055, -0.05073120817542076, 0.005210559815168381, 0.04682450741529465, 0.02562323585152626, 0.012914938852190971, -0.013529536314308643, 0.02941223233938217, -0.04472343623638153, -0.027341419830918312, 0.013790504075586796, -0.05407436192035675, 0.0039293491281569, -0.00513356551527977, 0.011136943474411964, 0.011990398168563843, 0.07552562654018402, 0.03564413636922836, 0.02465374581515789, -0.01823480799794197, -0.03099443018436432, 0.007369452156126499, -0.029636723920702934, -0.059718936681747437, 0.02306799218058586, 0.12367641180753708, -0.021652597934007645, -0.026450587436556816, -0.05676402151584625, 0.06798521429300308, 0.08175589144229889, 0.01772935502231121, 0.012516406364738941, 0.010849859565496445, 0.004634870681911707, 0.009122212417423725, -0.0447065532207489, 0.0328325591981411, 0.017400631681084633, -0.004901070613414049, 0.020065510645508766, -0.003894538851454854, 0.025704054161906242, -0.01037275418639183, 0.024743100628256798, -0.05403923615813255, -0.018420221284031868, -0.00044608782627619803, -0.02393406257033348, -0.050495196133852005, -0.03509243205189705, -0.08435238897800446, 0.02134566381573677, 0.023038020357489586, -0.031494513154029846, 0.0365055687725544, -0.03049527294933796, 0.02401859313249588, 0.001367452903650701, 0.02884870208799839, 0.0369991697371006, 0.02187962457537651, -0.09328631311655045, 0.033994998782873154, 0.013694614171981812, -0.10191076248884201, -0.044156093150377274, 0.06049501523375511, 0.0004985674750059843, -0.03942851349711418, 0.019886882975697517, 0.052794408053159714, 0.02883446402847767, -0.06024464964866638, -0.020936787128448486, 0.05083894357085228, 0.019800717011094093, 0.04309254512190819, -0.012392107397317886, 0.006010886747390032, 0.017090801149606705, 0.08527501672506332, -0.08397304266691208, 0.03542735427618027, -0.036750275641679764, 0.059010930359363556, -0.006635670084506273, 0.01266423612833023, -0.10186436772346497, 0.037524525076150894, 0.0029062468092888594, 0.04767093062400818, 0.002301017288118601, 0.0006601791828870773, -0.06204772740602493, 0.05398424342274666, -0.011744697578251362, -0.04114106670022011, 0.031122688204050064, -0.02777823992073536, -0.008289596997201443, 0.07050107419490814, -0.0993499755859375, -0.046427171677351, 0.008088584989309311, -0.03832117095589638, 0.00041284182225354016, -0.02684846520423889, 0.023631874471902847, 0.04188331216573715, -0.057638224214315414, -0.032954100519418716, -0.02362120896577835, -0.04796690121293068, -0.047980159521102905, 0.004341902676969767, 0.011966591700911522, 0.020791111513972282, 0.001967737218365073, 0.040933024138212204, 0.019031241536140442, -0.034202661365270615, -0.023196473717689514, -0.03680619224905968, 0.013236583210527897, 0.04891006648540497, 0.03184434026479721, -0.00600612023845315, 0.011590689420700073, 0.024668041616678238, -0.004474302288144827, -0.016489366069436073, 0.10616344213485718, 0.012550946325063705, 0.04668932408094406, 0.05669214576482773, 0.039579909294843674, -0.09722259640693665, 0.002981760771945119, -0.0231223963201046, -0.03026493825018406, 0.006937195546925068, -0.06674842536449432, -0.054667070508003235, 0.02006520703434944, -0.03823746368288994, 0.0035532480105757713, 0.005855804309248924, -0.049715831875801086, 0.004355798941105604, -0.022684380412101746, -0.03579271212220192, 0.011173557490110397, -0.0038316408172249794, 0.001698521082289517, -0.010372145101428032, -0.01888979785144329, 0.018063709139823914, -0.030036741867661476, -0.05567348375916481, 0.0010586415883153677, 0.026040682569146156, 0.012894460931420326, -0.04028192162513733, 0.019712457433342934, 0.058015599846839905, -0.04802833870053291, 0.062241386622190475, -0.01567445695400238, 0.03343259170651436, -0.011499461717903614, -0.04422857239842415, -0.004350457806140184, -0.015501213259994984, 0.05169883742928505, 0.022041767835617065, 0.06146275997161865, 0.07147224992513657, -0.011533364653587341, -0.011106481775641441, 0.03918324410915375, -0.011617842130362988, -0.09782476723194122, 0.08044233918190002, 0.06129615381360054, 0.0482296384871006, -0.07805411517620087, 0.011256443336606026, 0.022494690492749214, -0.022023454308509827, 0.02840721607208252, 0.06979507952928543, 0.04081327095627785, 0.058170873671770096, -0.02993023581802845, -0.07135017216205597, 0.11453236639499664, -0.07260040938854218, -0.0014979245606809855, 0.01875063218176365, 0.02086467109620571, 0.01862434484064579, 0.021398762241005898, 0.04352956265211105, -0.01204962283372879, 0.03978181630373001, -0.07848117500543594, 0.03840577229857445, 0.012105930596590042, -0.029218357056379318, 0.027131950482726097, -0.02185368910431862, -0.041092731058597565, 0.0053082238882780075, -0.010894792154431343, 0.058316316455602646, -0.05145426094532013, 0.014512954279780388, 0.012650154531002045, 0.04622979462146759, -0.010241755284368992, -0.003279791446402669, 0.006147903390228748, 0.05046810209751129, 0.02315284125506878, 0.09207258373498917, -0.01975187286734581, -0.05578143894672394, -0.04494418948888779, 0.047199565917253494, -0.07434525340795517, -0.07029476761817932, 0.03525733947753906, -0.0038682410959154367, -0.11813227087259293, 0.16382265090942383, 0.0710875391960144, -0.011408137157559395, 0.02256445586681366, -0.002730341861024499, 0.007767414674162865, -0.01871904917061329, -0.03507727012038231, -0.000952633679844439, -0.045695267617702484, -0.005946907680481672, 0.05817088484764099, -0.004928102716803551, -0.032749075442552567, 0.07370006293058395, -0.034477781504392624, 0.02074929140508175, 0.17825263738632202, -0.013903952203691006, -0.03602304682135582, 0.039869122207164764, -0.008686107583343983, -0.04680147022008896, -0.0068108802661299706, -0.060679059475660324, -0.04400107264518738, 0.009976706467568874, -0.008455194532871246, 0.03132254630327225, 0.05898891016840935, -0.005047574173659086, -0.08315695077180862, -0.08091825991868973, 0.04151913896203041]\n"
     ]
    }
   ],
   "source": [
    "print(embeddings(['jf']))\n",
    "len(embeddings(['jf']))"
   ]
  },
  {
   "cell_type": "code",
   "execution_count": 14,
   "id": "6994e370-5a82-47dd-bfed-4c5047e6b036",
   "metadata": {},
   "outputs": [],
   "source": [
    "# with open(file_path) as file:\n",
    "#     lines = [line for line in file]\n",
    "# lines = df.to_string(index=False, header=False).split('\\n')\n",
    "# msgs = [x.split('\\t')[1].replace('\\n', '')   for x in lines]\n",
    "# embdngs = [embeddings([x]) for x in msgs]\n",
    "# indx = list(range(1, len(msgs)+1))\n",
    "# data_to_insert = [indx, msgs, embdngs]\n",
    "\n",
    "# msgs = df.iloc[:, 0].tolist()\n",
    "# embdngs = [embeddings(x) for x in msgs]\n",
    "# indx = list(range(1, len(msgs) + 1))\n",
    "# data_to_insert = [indx, msgs, embdngs]\n",
    "\n",
    "msgs = df.iloc[:, 0].tolist()\n",
    "embdngs = [embeddings([x]) for x in msgs]\n",
    "indx = list(range(1, len(msgs) + 1))\n",
    "data_to_insert = [indx, msgs, embdngs]\n"
   ]
  },
  {
   "cell_type": "code",
   "execution_count": 15,
   "id": "979ea059-b046-4220-8029-ae761e53a389",
   "metadata": {},
   "outputs": [],
   "source": [
    "connections.connect(\n",
    "  alias=\"default\",\n",
    "  host='localhost',\n",
    "  port='19530'\n",
    ")"
   ]
  },
  {
   "cell_type": "code",
   "execution_count": 16,
   "id": "5f3a60eb-2247-486c-a46e-61c99c9b0a15",
   "metadata": {},
   "outputs": [
    {
     "data": {
      "text/plain": [
       "['Album1', 'Spam_Test', 'SDR']"
      ]
     },
     "execution_count": 16,
     "metadata": {},
     "output_type": "execute_result"
    }
   ],
   "source": [
    "# Field Schema\n",
    "id = FieldSchema(\n",
    "  name=\"id\",\n",
    "  dtype=DataType.INT64,\n",
    "  is_primary=True,\n",
    ")\n",
    "message = FieldSchema(\n",
    "  name=\"message\",\n",
    "  dtype=DataType.VARCHAR,\n",
    "  max_length=6000,\n",
    ")\n",
    "message_vec = FieldSchema(\n",
    "  name=\"message_embeddings\",\n",
    "  dtype=DataType.FLOAT_VECTOR,\n",
    "  dim=512\n",
    ")\n",
    "# collection schema\n",
    "collection_schema = CollectionSchema(\n",
    "  fields=[id, message, message_vec],\n",
    "  description=\"Similar Document Retreival\"\n",
    ")\n",
    "# Create collection\n",
    "collection = Collection(\n",
    "    name=\"SDR\",\n",
    "    schema=collection_schema,\n",
    "    using='default')\n",
    "utility.list_collections()"
   ]
  },
  {
   "cell_type": "code",
   "execution_count": 17,
   "id": "3d06874b-657b-4afd-9945-b91e2115c8a1",
   "metadata": {},
   "outputs": [],
   "source": [
    "data_insert = collection.insert(data_to_insert)"
   ]
  },
  {
   "cell_type": "code",
   "execution_count": 18,
   "id": "8c9d44bf-90ce-4706-8326-0ae57343970f",
   "metadata": {},
   "outputs": [
    {
     "data": {
      "text/plain": [
       "Status(code=0, message=)"
      ]
     },
     "execution_count": 18,
     "metadata": {},
     "output_type": "execute_result"
    }
   ],
   "source": [
    "# Create Index\n",
    "index_params = {\n",
    "  \"metric_type\":\"L2\",\n",
    "  \"index_type\":\"IVF_FLAT\",\n",
    "  \"params\":{\"nlist\":1024},\n",
    "  \"index_name\": \"SDR_IVF_FLAT_TEST\"\n",
    "}\n",
    "\n",
    "# Index on vector field\n",
    "collection.create_index(\n",
    "  field_name=\"message_embeddings\",\n",
    "  index_params=index_params\n",
    ")"
   ]
  },
  {
   "cell_type": "code",
   "execution_count": 19,
   "id": "2246f2e1-d802-4e51-91a1-49abf65ffbd6",
   "metadata": {},
   "outputs": [],
   "source": [
    "# Load the collection\n",
    "\n",
    "collection.load(replica_number=1)"
   ]
  },
  {
   "cell_type": "code",
   "execution_count": 28,
   "id": "29e7d4a4-e5aa-4cdf-adf2-3dca9d1ebc75",
   "metadata": {},
   "outputs": [],
   "source": [
    "# test message\n",
    "test_message = [\"Golden Retriver\"]\n",
    "test_message_vector = embeddings(test_message)"
   ]
  },
  {
   "cell_type": "code",
   "execution_count": 45,
   "id": "202c6f63-a71f-4341-b955-f1ac400c1493",
   "metadata": {},
   "outputs": [
    {
     "name": "stderr",
     "output_type": "stream",
     "text": [
      "WARNING:pymilvus.decorators:\u001b[93m[search] retry:4, cost: 0.27s, reason: <_InactiveRpcError: StatusCode.UNAVAILABLE, failed to connect to all addresses; last error: UNAVAILABLE: ipv4:127.0.0.1:19530: Connection refused>\u001b[0m\n",
      "WARNING:pymilvus.decorators:\u001b[93m[search] retry:5, cost: 0.81s, reason: <_InactiveRpcError: StatusCode.UNAVAILABLE, failed to connect to all addresses; last error: UNAVAILABLE: ipv4:127.0.0.1:19530: Connection refused>\u001b[0m\n",
      "WARNING:pymilvus.decorators:\u001b[93m[search] retry:6, cost: 2.43s, reason: <_InactiveRpcError: StatusCode.UNAVAILABLE, failed to connect to all addresses; last error: UNAVAILABLE: ipv4:127.0.0.1:19530: Connection refused>\u001b[0m\n",
      "WARNING:pymilvus.decorators:\u001b[93m[search] retry:7, cost: 3.00s, reason: <_InactiveRpcError: StatusCode.UNAVAILABLE, failed to connect to all addresses; last error: UNAVAILABLE: ipv4:127.0.0.1:19530: Connection refused>\u001b[0m\n",
      "WARNING:pymilvus.decorators:\u001b[93m[search] retry:8, cost: 3.00s, reason: <_InactiveRpcError: StatusCode.UNAVAILABLE, failed to connect to all addresses; last error: UNAVAILABLE: ipv4:127.0.0.1:19530: Connection refused>\u001b[0m\n"
     ]
    },
    {
     "ename": "KeyboardInterrupt",
     "evalue": "",
     "output_type": "error",
     "traceback": [
      "\u001b[1;31m---------------------------------------------------------------------------\u001b[0m",
      "\u001b[1;31m_InactiveRpcError\u001b[0m                         Traceback (most recent call last)",
      "File \u001b[1;32mc:\\Users\\dhruv.nanavati\\AppData\\Local\\Programs\\Python\\Python311\\Lib\\site-packages\\pymilvus\\decorators.py:68\u001b[0m, in \u001b[0;36mretry_on_rpc_failure.<locals>.wrapper.<locals>.handler\u001b[1;34m(*args, **kwargs)\u001b[0m\n\u001b[0;32m     67\u001b[0m \u001b[39mtry\u001b[39;00m:\n\u001b[1;32m---> 68\u001b[0m     \u001b[39mreturn\u001b[39;00m func(\u001b[39m*\u001b[39;49margs, \u001b[39m*\u001b[39;49m\u001b[39m*\u001b[39;49mkwargs)\n\u001b[0;32m     69\u001b[0m \u001b[39mexcept\u001b[39;00m grpc\u001b[39m.\u001b[39mRpcError \u001b[39mas\u001b[39;00m e:\n\u001b[0;32m     70\u001b[0m     \u001b[39m# Reference: https://grpc.github.io/grpc/python/grpc.html#grpc-status-code\u001b[39;00m\n",
      "File \u001b[1;32mc:\\Users\\dhruv.nanavati\\AppData\\Local\\Programs\\Python\\Python311\\Lib\\site-packages\\pymilvus\\client\\grpc_handler.py:781\u001b[0m, in \u001b[0;36mGrpcHandler.search\u001b[1;34m(self, collection_name, data, anns_field, param, limit, expression, partition_names, output_fields, round_decimal, timeout, **kwargs)\u001b[0m\n\u001b[0;32m    769\u001b[0m request \u001b[39m=\u001b[39m Prepare\u001b[39m.\u001b[39msearch_requests_with_expr(\n\u001b[0;32m    770\u001b[0m     collection_name,\n\u001b[0;32m    771\u001b[0m     data,\n\u001b[1;32m   (...)\u001b[0m\n\u001b[0;32m    779\u001b[0m     \u001b[39m*\u001b[39m\u001b[39m*\u001b[39mkwargs,\n\u001b[0;32m    780\u001b[0m )\n\u001b[1;32m--> 781\u001b[0m \u001b[39mreturn\u001b[39;00m \u001b[39mself\u001b[39;49m\u001b[39m.\u001b[39;49m_execute_search(request, timeout, round_decimal\u001b[39m=\u001b[39;49mround_decimal, \u001b[39m*\u001b[39;49m\u001b[39m*\u001b[39;49mkwargs)\n",
      "File \u001b[1;32mc:\\Users\\dhruv.nanavati\\AppData\\Local\\Programs\\Python\\Python311\\Lib\\site-packages\\pymilvus\\client\\grpc_handler.py:742\u001b[0m, in \u001b[0;36mGrpcHandler._execute_search\u001b[1;34m(self, request, timeout, **kwargs)\u001b[0m\n\u001b[0;32m    741\u001b[0m     \u001b[39mreturn\u001b[39;00m SearchFuture(\u001b[39mNone\u001b[39;00m, \u001b[39mNone\u001b[39;00m, e)\n\u001b[1;32m--> 742\u001b[0m \u001b[39mraise\u001b[39;00m e \u001b[39mfrom\u001b[39;00m \u001b[39me\u001b[39;00m\n",
      "File \u001b[1;32mc:\\Users\\dhruv.nanavati\\AppData\\Local\\Programs\\Python\\Python311\\Lib\\site-packages\\pymilvus\\client\\grpc_handler.py:732\u001b[0m, in \u001b[0;36mGrpcHandler._execute_search\u001b[1;34m(self, request, timeout, **kwargs)\u001b[0m\n\u001b[0;32m    730\u001b[0m     \u001b[39mreturn\u001b[39;00m SearchFuture(future, func)\n\u001b[1;32m--> 732\u001b[0m response \u001b[39m=\u001b[39m \u001b[39mself\u001b[39;49m\u001b[39m.\u001b[39;49m_stub\u001b[39m.\u001b[39;49mSearch(request, timeout\u001b[39m=\u001b[39;49mtimeout)\n\u001b[0;32m    733\u001b[0m \u001b[39mif\u001b[39;00m response\u001b[39m.\u001b[39mstatus\u001b[39m.\u001b[39mcode \u001b[39m!=\u001b[39m \u001b[39m0\u001b[39m:\n",
      "File \u001b[1;32mc:\\Users\\dhruv.nanavati\\AppData\\Local\\Programs\\Python\\Python311\\Lib\\site-packages\\grpc\\_interceptor.py:277\u001b[0m, in \u001b[0;36m_UnaryUnaryMultiCallable.__call__\u001b[1;34m(self, request, timeout, metadata, credentials, wait_for_ready, compression)\u001b[0m\n\u001b[0;32m    268\u001b[0m \u001b[39mdef\u001b[39;00m \u001b[39m__call__\u001b[39m(\n\u001b[0;32m    269\u001b[0m     \u001b[39mself\u001b[39m,\n\u001b[0;32m    270\u001b[0m     request: Any,\n\u001b[1;32m   (...)\u001b[0m\n\u001b[0;32m    275\u001b[0m     compression: Optional[grpc\u001b[39m.\u001b[39mCompression] \u001b[39m=\u001b[39m \u001b[39mNone\u001b[39;00m,\n\u001b[0;32m    276\u001b[0m ) \u001b[39m-\u001b[39m\u001b[39m>\u001b[39m Any:\n\u001b[1;32m--> 277\u001b[0m     response, ignored_call \u001b[39m=\u001b[39m \u001b[39mself\u001b[39;49m\u001b[39m.\u001b[39;49m_with_call(\n\u001b[0;32m    278\u001b[0m         request,\n\u001b[0;32m    279\u001b[0m         timeout\u001b[39m=\u001b[39;49mtimeout,\n\u001b[0;32m    280\u001b[0m         metadata\u001b[39m=\u001b[39;49mmetadata,\n\u001b[0;32m    281\u001b[0m         credentials\u001b[39m=\u001b[39;49mcredentials,\n\u001b[0;32m    282\u001b[0m         wait_for_ready\u001b[39m=\u001b[39;49mwait_for_ready,\n\u001b[0;32m    283\u001b[0m         compression\u001b[39m=\u001b[39;49mcompression,\n\u001b[0;32m    284\u001b[0m     )\n\u001b[0;32m    285\u001b[0m     \u001b[39mreturn\u001b[39;00m response\n",
      "File \u001b[1;32mc:\\Users\\dhruv.nanavati\\AppData\\Local\\Programs\\Python\\Python311\\Lib\\site-packages\\grpc\\_interceptor.py:332\u001b[0m, in \u001b[0;36m_UnaryUnaryMultiCallable._with_call\u001b[1;34m(self, request, timeout, metadata, credentials, wait_for_ready, compression)\u001b[0m\n\u001b[0;32m    329\u001b[0m call \u001b[39m=\u001b[39m \u001b[39mself\u001b[39m\u001b[39m.\u001b[39m_interceptor\u001b[39m.\u001b[39mintercept_unary_unary(\n\u001b[0;32m    330\u001b[0m     continuation, client_call_details, request\n\u001b[0;32m    331\u001b[0m )\n\u001b[1;32m--> 332\u001b[0m \u001b[39mreturn\u001b[39;00m call\u001b[39m.\u001b[39;49mresult(), call\n",
      "File \u001b[1;32mc:\\Users\\dhruv.nanavati\\AppData\\Local\\Programs\\Python\\Python311\\Lib\\site-packages\\grpc\\_channel.py:438\u001b[0m, in \u001b[0;36m_InactiveRpcError.result\u001b[1;34m(self, timeout)\u001b[0m\n\u001b[0;32m    437\u001b[0m \u001b[39m\u001b[39m\u001b[39m\"\"\"See grpc.Future.result.\"\"\"\u001b[39;00m\n\u001b[1;32m--> 438\u001b[0m \u001b[39mraise\u001b[39;00m \u001b[39mself\u001b[39m\n",
      "File \u001b[1;32mc:\\Users\\dhruv.nanavati\\AppData\\Local\\Programs\\Python\\Python311\\Lib\\site-packages\\grpc\\_interceptor.py:315\u001b[0m, in \u001b[0;36m_UnaryUnaryMultiCallable._with_call.<locals>.continuation\u001b[1;34m(new_details, request)\u001b[0m\n\u001b[0;32m    314\u001b[0m \u001b[39mtry\u001b[39;00m:\n\u001b[1;32m--> 315\u001b[0m     response, call \u001b[39m=\u001b[39m \u001b[39mself\u001b[39;49m\u001b[39m.\u001b[39;49m_thunk(new_method)\u001b[39m.\u001b[39;49mwith_call(\n\u001b[0;32m    316\u001b[0m         request,\n\u001b[0;32m    317\u001b[0m         timeout\u001b[39m=\u001b[39;49mnew_timeout,\n\u001b[0;32m    318\u001b[0m         metadata\u001b[39m=\u001b[39;49mnew_metadata,\n\u001b[0;32m    319\u001b[0m         credentials\u001b[39m=\u001b[39;49mnew_credentials,\n\u001b[0;32m    320\u001b[0m         wait_for_ready\u001b[39m=\u001b[39;49mnew_wait_for_ready,\n\u001b[0;32m    321\u001b[0m         compression\u001b[39m=\u001b[39;49mnew_compression,\n\u001b[0;32m    322\u001b[0m     )\n\u001b[0;32m    323\u001b[0m     \u001b[39mreturn\u001b[39;00m _UnaryOutcome(response, call)\n",
      "File \u001b[1;32mc:\\Users\\dhruv.nanavati\\AppData\\Local\\Programs\\Python\\Python311\\Lib\\site-packages\\grpc\\_interceptor.py:343\u001b[0m, in \u001b[0;36m_UnaryUnaryMultiCallable.with_call\u001b[1;34m(self, request, timeout, metadata, credentials, wait_for_ready, compression)\u001b[0m\n\u001b[0;32m    334\u001b[0m \u001b[39mdef\u001b[39;00m \u001b[39mwith_call\u001b[39m(\n\u001b[0;32m    335\u001b[0m     \u001b[39mself\u001b[39m,\n\u001b[0;32m    336\u001b[0m     request: Any,\n\u001b[1;32m   (...)\u001b[0m\n\u001b[0;32m    341\u001b[0m     compression: Optional[grpc\u001b[39m.\u001b[39mCompression] \u001b[39m=\u001b[39m \u001b[39mNone\u001b[39;00m,\n\u001b[0;32m    342\u001b[0m ) \u001b[39m-\u001b[39m\u001b[39m>\u001b[39m Tuple[Any, grpc\u001b[39m.\u001b[39mCall]:\n\u001b[1;32m--> 343\u001b[0m     \u001b[39mreturn\u001b[39;00m \u001b[39mself\u001b[39;49m\u001b[39m.\u001b[39;49m_with_call(\n\u001b[0;32m    344\u001b[0m         request,\n\u001b[0;32m    345\u001b[0m         timeout\u001b[39m=\u001b[39;49mtimeout,\n\u001b[0;32m    346\u001b[0m         metadata\u001b[39m=\u001b[39;49mmetadata,\n\u001b[0;32m    347\u001b[0m         credentials\u001b[39m=\u001b[39;49mcredentials,\n\u001b[0;32m    348\u001b[0m         wait_for_ready\u001b[39m=\u001b[39;49mwait_for_ready,\n\u001b[0;32m    349\u001b[0m         compression\u001b[39m=\u001b[39;49mcompression,\n\u001b[0;32m    350\u001b[0m     )\n",
      "File \u001b[1;32mc:\\Users\\dhruv.nanavati\\AppData\\Local\\Programs\\Python\\Python311\\Lib\\site-packages\\grpc\\_interceptor.py:332\u001b[0m, in \u001b[0;36m_UnaryUnaryMultiCallable._with_call\u001b[1;34m(self, request, timeout, metadata, credentials, wait_for_ready, compression)\u001b[0m\n\u001b[0;32m    329\u001b[0m call \u001b[39m=\u001b[39m \u001b[39mself\u001b[39m\u001b[39m.\u001b[39m_interceptor\u001b[39m.\u001b[39mintercept_unary_unary(\n\u001b[0;32m    330\u001b[0m     continuation, client_call_details, request\n\u001b[0;32m    331\u001b[0m )\n\u001b[1;32m--> 332\u001b[0m \u001b[39mreturn\u001b[39;00m call\u001b[39m.\u001b[39;49mresult(), call\n",
      "File \u001b[1;32mc:\\Users\\dhruv.nanavati\\AppData\\Local\\Programs\\Python\\Python311\\Lib\\site-packages\\grpc\\_channel.py:438\u001b[0m, in \u001b[0;36m_InactiveRpcError.result\u001b[1;34m(self, timeout)\u001b[0m\n\u001b[0;32m    437\u001b[0m \u001b[39m\u001b[39m\u001b[39m\"\"\"See grpc.Future.result.\"\"\"\u001b[39;00m\n\u001b[1;32m--> 438\u001b[0m \u001b[39mraise\u001b[39;00m \u001b[39mself\u001b[39m\n",
      "File \u001b[1;32mc:\\Users\\dhruv.nanavati\\AppData\\Local\\Programs\\Python\\Python311\\Lib\\site-packages\\grpc\\_interceptor.py:315\u001b[0m, in \u001b[0;36m_UnaryUnaryMultiCallable._with_call.<locals>.continuation\u001b[1;34m(new_details, request)\u001b[0m\n\u001b[0;32m    314\u001b[0m \u001b[39mtry\u001b[39;00m:\n\u001b[1;32m--> 315\u001b[0m     response, call \u001b[39m=\u001b[39m \u001b[39mself\u001b[39;49m\u001b[39m.\u001b[39;49m_thunk(new_method)\u001b[39m.\u001b[39;49mwith_call(\n\u001b[0;32m    316\u001b[0m         request,\n\u001b[0;32m    317\u001b[0m         timeout\u001b[39m=\u001b[39;49mnew_timeout,\n\u001b[0;32m    318\u001b[0m         metadata\u001b[39m=\u001b[39;49mnew_metadata,\n\u001b[0;32m    319\u001b[0m         credentials\u001b[39m=\u001b[39;49mnew_credentials,\n\u001b[0;32m    320\u001b[0m         wait_for_ready\u001b[39m=\u001b[39;49mnew_wait_for_ready,\n\u001b[0;32m    321\u001b[0m         compression\u001b[39m=\u001b[39;49mnew_compression,\n\u001b[0;32m    322\u001b[0m     )\n\u001b[0;32m    323\u001b[0m     \u001b[39mreturn\u001b[39;00m _UnaryOutcome(response, call)\n",
      "File \u001b[1;32mc:\\Users\\dhruv.nanavati\\AppData\\Local\\Programs\\Python\\Python311\\Lib\\site-packages\\grpc\\_channel.py:1178\u001b[0m, in \u001b[0;36m_UnaryUnaryMultiCallable.with_call\u001b[1;34m(self, request, timeout, metadata, credentials, wait_for_ready, compression)\u001b[0m\n\u001b[0;32m   1172\u001b[0m (\n\u001b[0;32m   1173\u001b[0m     state,\n\u001b[0;32m   1174\u001b[0m     call,\n\u001b[0;32m   1175\u001b[0m ) \u001b[39m=\u001b[39m \u001b[39mself\u001b[39m\u001b[39m.\u001b[39m_blocking(\n\u001b[0;32m   1176\u001b[0m     request, timeout, metadata, credentials, wait_for_ready, compression\n\u001b[0;32m   1177\u001b[0m )\n\u001b[1;32m-> 1178\u001b[0m \u001b[39mreturn\u001b[39;00m _end_unary_response_blocking(state, call, \u001b[39mTrue\u001b[39;49;00m, \u001b[39mNone\u001b[39;49;00m)\n",
      "File \u001b[1;32mc:\\Users\\dhruv.nanavati\\AppData\\Local\\Programs\\Python\\Python311\\Lib\\site-packages\\grpc\\_channel.py:1004\u001b[0m, in \u001b[0;36m_end_unary_response_blocking\u001b[1;34m(state, call, with_call, deadline)\u001b[0m\n\u001b[0;32m   1003\u001b[0m \u001b[39melse\u001b[39;00m:\n\u001b[1;32m-> 1004\u001b[0m     \u001b[39mraise\u001b[39;00m _InactiveRpcError(state)\n",
      "\u001b[1;31m_InactiveRpcError\u001b[0m: <_InactiveRpcError of RPC that terminated with:\n\tstatus = StatusCode.UNAVAILABLE\n\tdetails = \"failed to connect to all addresses; last error: UNAVAILABLE: ipv4:127.0.0.1:19530: Connection refused\"\n\tdebug_error_string = \"UNKNOWN:failed to connect to all addresses; last error: UNAVAILABLE: ipv4:127.0.0.1:19530: Connection refused {created_time:\"2023-11-20T13:09:57.2665051+00:00\", grpc_status:14}\"\n>",
      "\nThe above exception was the direct cause of the following exception:\n",
      "\u001b[1;31m_InactiveRpcError\u001b[0m                         Traceback (most recent call last)",
      "File \u001b[1;32mc:\\Users\\dhruv.nanavati\\AppData\\Local\\Programs\\Python\\Python311\\Lib\\site-packages\\pymilvus\\decorators.py:68\u001b[0m, in \u001b[0;36mretry_on_rpc_failure.<locals>.wrapper.<locals>.handler\u001b[1;34m(*args, **kwargs)\u001b[0m\n\u001b[0;32m     67\u001b[0m \u001b[39mtry\u001b[39;00m:\n\u001b[1;32m---> 68\u001b[0m     \u001b[39mreturn\u001b[39;00m func(\u001b[39m*\u001b[39;49margs, \u001b[39m*\u001b[39;49m\u001b[39m*\u001b[39;49mkwargs)\n\u001b[0;32m     69\u001b[0m \u001b[39mexcept\u001b[39;00m grpc\u001b[39m.\u001b[39mRpcError \u001b[39mas\u001b[39;00m e:\n\u001b[0;32m     70\u001b[0m     \u001b[39m# Reference: https://grpc.github.io/grpc/python/grpc.html#grpc-status-code\u001b[39;00m\n",
      "File \u001b[1;32mc:\\Users\\dhruv.nanavati\\AppData\\Local\\Programs\\Python\\Python311\\Lib\\site-packages\\pymilvus\\client\\grpc_handler.py:781\u001b[0m, in \u001b[0;36mGrpcHandler.search\u001b[1;34m(self, collection_name, data, anns_field, param, limit, expression, partition_names, output_fields, round_decimal, timeout, **kwargs)\u001b[0m\n\u001b[0;32m    769\u001b[0m request \u001b[39m=\u001b[39m Prepare\u001b[39m.\u001b[39msearch_requests_with_expr(\n\u001b[0;32m    770\u001b[0m     collection_name,\n\u001b[0;32m    771\u001b[0m     data,\n\u001b[1;32m   (...)\u001b[0m\n\u001b[0;32m    779\u001b[0m     \u001b[39m*\u001b[39m\u001b[39m*\u001b[39mkwargs,\n\u001b[0;32m    780\u001b[0m )\n\u001b[1;32m--> 781\u001b[0m \u001b[39mreturn\u001b[39;00m \u001b[39mself\u001b[39;49m\u001b[39m.\u001b[39;49m_execute_search(request, timeout, round_decimal\u001b[39m=\u001b[39;49mround_decimal, \u001b[39m*\u001b[39;49m\u001b[39m*\u001b[39;49mkwargs)\n",
      "File \u001b[1;32mc:\\Users\\dhruv.nanavati\\AppData\\Local\\Programs\\Python\\Python311\\Lib\\site-packages\\pymilvus\\client\\grpc_handler.py:742\u001b[0m, in \u001b[0;36mGrpcHandler._execute_search\u001b[1;34m(self, request, timeout, **kwargs)\u001b[0m\n\u001b[0;32m    741\u001b[0m     \u001b[39mreturn\u001b[39;00m SearchFuture(\u001b[39mNone\u001b[39;00m, \u001b[39mNone\u001b[39;00m, e)\n\u001b[1;32m--> 742\u001b[0m \u001b[39mraise\u001b[39;00m e \u001b[39mfrom\u001b[39;00m \u001b[39me\u001b[39;00m\n",
      "File \u001b[1;32mc:\\Users\\dhruv.nanavati\\AppData\\Local\\Programs\\Python\\Python311\\Lib\\site-packages\\pymilvus\\client\\grpc_handler.py:732\u001b[0m, in \u001b[0;36mGrpcHandler._execute_search\u001b[1;34m(self, request, timeout, **kwargs)\u001b[0m\n\u001b[0;32m    730\u001b[0m     \u001b[39mreturn\u001b[39;00m SearchFuture(future, func)\n\u001b[1;32m--> 732\u001b[0m response \u001b[39m=\u001b[39m \u001b[39mself\u001b[39;49m\u001b[39m.\u001b[39;49m_stub\u001b[39m.\u001b[39;49mSearch(request, timeout\u001b[39m=\u001b[39;49mtimeout)\n\u001b[0;32m    733\u001b[0m \u001b[39mif\u001b[39;00m response\u001b[39m.\u001b[39mstatus\u001b[39m.\u001b[39mcode \u001b[39m!=\u001b[39m \u001b[39m0\u001b[39m:\n",
      "File \u001b[1;32mc:\\Users\\dhruv.nanavati\\AppData\\Local\\Programs\\Python\\Python311\\Lib\\site-packages\\grpc\\_interceptor.py:277\u001b[0m, in \u001b[0;36m_UnaryUnaryMultiCallable.__call__\u001b[1;34m(self, request, timeout, metadata, credentials, wait_for_ready, compression)\u001b[0m\n\u001b[0;32m    268\u001b[0m \u001b[39mdef\u001b[39;00m \u001b[39m__call__\u001b[39m(\n\u001b[0;32m    269\u001b[0m     \u001b[39mself\u001b[39m,\n\u001b[0;32m    270\u001b[0m     request: Any,\n\u001b[1;32m   (...)\u001b[0m\n\u001b[0;32m    275\u001b[0m     compression: Optional[grpc\u001b[39m.\u001b[39mCompression] \u001b[39m=\u001b[39m \u001b[39mNone\u001b[39;00m,\n\u001b[0;32m    276\u001b[0m ) \u001b[39m-\u001b[39m\u001b[39m>\u001b[39m Any:\n\u001b[1;32m--> 277\u001b[0m     response, ignored_call \u001b[39m=\u001b[39m \u001b[39mself\u001b[39;49m\u001b[39m.\u001b[39;49m_with_call(\n\u001b[0;32m    278\u001b[0m         request,\n\u001b[0;32m    279\u001b[0m         timeout\u001b[39m=\u001b[39;49mtimeout,\n\u001b[0;32m    280\u001b[0m         metadata\u001b[39m=\u001b[39;49mmetadata,\n\u001b[0;32m    281\u001b[0m         credentials\u001b[39m=\u001b[39;49mcredentials,\n\u001b[0;32m    282\u001b[0m         wait_for_ready\u001b[39m=\u001b[39;49mwait_for_ready,\n\u001b[0;32m    283\u001b[0m         compression\u001b[39m=\u001b[39;49mcompression,\n\u001b[0;32m    284\u001b[0m     )\n\u001b[0;32m    285\u001b[0m     \u001b[39mreturn\u001b[39;00m response\n",
      "File \u001b[1;32mc:\\Users\\dhruv.nanavati\\AppData\\Local\\Programs\\Python\\Python311\\Lib\\site-packages\\grpc\\_interceptor.py:332\u001b[0m, in \u001b[0;36m_UnaryUnaryMultiCallable._with_call\u001b[1;34m(self, request, timeout, metadata, credentials, wait_for_ready, compression)\u001b[0m\n\u001b[0;32m    329\u001b[0m call \u001b[39m=\u001b[39m \u001b[39mself\u001b[39m\u001b[39m.\u001b[39m_interceptor\u001b[39m.\u001b[39mintercept_unary_unary(\n\u001b[0;32m    330\u001b[0m     continuation, client_call_details, request\n\u001b[0;32m    331\u001b[0m )\n\u001b[1;32m--> 332\u001b[0m \u001b[39mreturn\u001b[39;00m call\u001b[39m.\u001b[39;49mresult(), call\n",
      "File \u001b[1;32mc:\\Users\\dhruv.nanavati\\AppData\\Local\\Programs\\Python\\Python311\\Lib\\site-packages\\grpc\\_channel.py:438\u001b[0m, in \u001b[0;36m_InactiveRpcError.result\u001b[1;34m(self, timeout)\u001b[0m\n\u001b[0;32m    437\u001b[0m \u001b[39m\u001b[39m\u001b[39m\"\"\"See grpc.Future.result.\"\"\"\u001b[39;00m\n\u001b[1;32m--> 438\u001b[0m \u001b[39mraise\u001b[39;00m \u001b[39mself\u001b[39m\n",
      "File \u001b[1;32mc:\\Users\\dhruv.nanavati\\AppData\\Local\\Programs\\Python\\Python311\\Lib\\site-packages\\grpc\\_interceptor.py:315\u001b[0m, in \u001b[0;36m_UnaryUnaryMultiCallable._with_call.<locals>.continuation\u001b[1;34m(new_details, request)\u001b[0m\n\u001b[0;32m    314\u001b[0m \u001b[39mtry\u001b[39;00m:\n\u001b[1;32m--> 315\u001b[0m     response, call \u001b[39m=\u001b[39m \u001b[39mself\u001b[39;49m\u001b[39m.\u001b[39;49m_thunk(new_method)\u001b[39m.\u001b[39;49mwith_call(\n\u001b[0;32m    316\u001b[0m         request,\n\u001b[0;32m    317\u001b[0m         timeout\u001b[39m=\u001b[39;49mnew_timeout,\n\u001b[0;32m    318\u001b[0m         metadata\u001b[39m=\u001b[39;49mnew_metadata,\n\u001b[0;32m    319\u001b[0m         credentials\u001b[39m=\u001b[39;49mnew_credentials,\n\u001b[0;32m    320\u001b[0m         wait_for_ready\u001b[39m=\u001b[39;49mnew_wait_for_ready,\n\u001b[0;32m    321\u001b[0m         compression\u001b[39m=\u001b[39;49mnew_compression,\n\u001b[0;32m    322\u001b[0m     )\n\u001b[0;32m    323\u001b[0m     \u001b[39mreturn\u001b[39;00m _UnaryOutcome(response, call)\n",
      "File \u001b[1;32mc:\\Users\\dhruv.nanavati\\AppData\\Local\\Programs\\Python\\Python311\\Lib\\site-packages\\grpc\\_interceptor.py:343\u001b[0m, in \u001b[0;36m_UnaryUnaryMultiCallable.with_call\u001b[1;34m(self, request, timeout, metadata, credentials, wait_for_ready, compression)\u001b[0m\n\u001b[0;32m    334\u001b[0m \u001b[39mdef\u001b[39;00m \u001b[39mwith_call\u001b[39m(\n\u001b[0;32m    335\u001b[0m     \u001b[39mself\u001b[39m,\n\u001b[0;32m    336\u001b[0m     request: Any,\n\u001b[1;32m   (...)\u001b[0m\n\u001b[0;32m    341\u001b[0m     compression: Optional[grpc\u001b[39m.\u001b[39mCompression] \u001b[39m=\u001b[39m \u001b[39mNone\u001b[39;00m,\n\u001b[0;32m    342\u001b[0m ) \u001b[39m-\u001b[39m\u001b[39m>\u001b[39m Tuple[Any, grpc\u001b[39m.\u001b[39mCall]:\n\u001b[1;32m--> 343\u001b[0m     \u001b[39mreturn\u001b[39;00m \u001b[39mself\u001b[39;49m\u001b[39m.\u001b[39;49m_with_call(\n\u001b[0;32m    344\u001b[0m         request,\n\u001b[0;32m    345\u001b[0m         timeout\u001b[39m=\u001b[39;49mtimeout,\n\u001b[0;32m    346\u001b[0m         metadata\u001b[39m=\u001b[39;49mmetadata,\n\u001b[0;32m    347\u001b[0m         credentials\u001b[39m=\u001b[39;49mcredentials,\n\u001b[0;32m    348\u001b[0m         wait_for_ready\u001b[39m=\u001b[39;49mwait_for_ready,\n\u001b[0;32m    349\u001b[0m         compression\u001b[39m=\u001b[39;49mcompression,\n\u001b[0;32m    350\u001b[0m     )\n",
      "File \u001b[1;32mc:\\Users\\dhruv.nanavati\\AppData\\Local\\Programs\\Python\\Python311\\Lib\\site-packages\\grpc\\_interceptor.py:332\u001b[0m, in \u001b[0;36m_UnaryUnaryMultiCallable._with_call\u001b[1;34m(self, request, timeout, metadata, credentials, wait_for_ready, compression)\u001b[0m\n\u001b[0;32m    329\u001b[0m call \u001b[39m=\u001b[39m \u001b[39mself\u001b[39m\u001b[39m.\u001b[39m_interceptor\u001b[39m.\u001b[39mintercept_unary_unary(\n\u001b[0;32m    330\u001b[0m     continuation, client_call_details, request\n\u001b[0;32m    331\u001b[0m )\n\u001b[1;32m--> 332\u001b[0m \u001b[39mreturn\u001b[39;00m call\u001b[39m.\u001b[39;49mresult(), call\n",
      "File \u001b[1;32mc:\\Users\\dhruv.nanavati\\AppData\\Local\\Programs\\Python\\Python311\\Lib\\site-packages\\grpc\\_channel.py:438\u001b[0m, in \u001b[0;36m_InactiveRpcError.result\u001b[1;34m(self, timeout)\u001b[0m\n\u001b[0;32m    437\u001b[0m \u001b[39m\u001b[39m\u001b[39m\"\"\"See grpc.Future.result.\"\"\"\u001b[39;00m\n\u001b[1;32m--> 438\u001b[0m \u001b[39mraise\u001b[39;00m \u001b[39mself\u001b[39m\n",
      "File \u001b[1;32mc:\\Users\\dhruv.nanavati\\AppData\\Local\\Programs\\Python\\Python311\\Lib\\site-packages\\grpc\\_interceptor.py:315\u001b[0m, in \u001b[0;36m_UnaryUnaryMultiCallable._with_call.<locals>.continuation\u001b[1;34m(new_details, request)\u001b[0m\n\u001b[0;32m    314\u001b[0m \u001b[39mtry\u001b[39;00m:\n\u001b[1;32m--> 315\u001b[0m     response, call \u001b[39m=\u001b[39m \u001b[39mself\u001b[39;49m\u001b[39m.\u001b[39;49m_thunk(new_method)\u001b[39m.\u001b[39;49mwith_call(\n\u001b[0;32m    316\u001b[0m         request,\n\u001b[0;32m    317\u001b[0m         timeout\u001b[39m=\u001b[39;49mnew_timeout,\n\u001b[0;32m    318\u001b[0m         metadata\u001b[39m=\u001b[39;49mnew_metadata,\n\u001b[0;32m    319\u001b[0m         credentials\u001b[39m=\u001b[39;49mnew_credentials,\n\u001b[0;32m    320\u001b[0m         wait_for_ready\u001b[39m=\u001b[39;49mnew_wait_for_ready,\n\u001b[0;32m    321\u001b[0m         compression\u001b[39m=\u001b[39;49mnew_compression,\n\u001b[0;32m    322\u001b[0m     )\n\u001b[0;32m    323\u001b[0m     \u001b[39mreturn\u001b[39;00m _UnaryOutcome(response, call)\n",
      "File \u001b[1;32mc:\\Users\\dhruv.nanavati\\AppData\\Local\\Programs\\Python\\Python311\\Lib\\site-packages\\grpc\\_channel.py:1178\u001b[0m, in \u001b[0;36m_UnaryUnaryMultiCallable.with_call\u001b[1;34m(self, request, timeout, metadata, credentials, wait_for_ready, compression)\u001b[0m\n\u001b[0;32m   1172\u001b[0m (\n\u001b[0;32m   1173\u001b[0m     state,\n\u001b[0;32m   1174\u001b[0m     call,\n\u001b[0;32m   1175\u001b[0m ) \u001b[39m=\u001b[39m \u001b[39mself\u001b[39m\u001b[39m.\u001b[39m_blocking(\n\u001b[0;32m   1176\u001b[0m     request, timeout, metadata, credentials, wait_for_ready, compression\n\u001b[0;32m   1177\u001b[0m )\n\u001b[1;32m-> 1178\u001b[0m \u001b[39mreturn\u001b[39;00m _end_unary_response_blocking(state, call, \u001b[39mTrue\u001b[39;49;00m, \u001b[39mNone\u001b[39;49;00m)\n",
      "File \u001b[1;32mc:\\Users\\dhruv.nanavati\\AppData\\Local\\Programs\\Python\\Python311\\Lib\\site-packages\\grpc\\_channel.py:1004\u001b[0m, in \u001b[0;36m_end_unary_response_blocking\u001b[1;34m(state, call, with_call, deadline)\u001b[0m\n\u001b[0;32m   1003\u001b[0m \u001b[39melse\u001b[39;00m:\n\u001b[1;32m-> 1004\u001b[0m     \u001b[39mraise\u001b[39;00m _InactiveRpcError(state)\n",
      "\u001b[1;31m_InactiveRpcError\u001b[0m: <_InactiveRpcError of RPC that terminated with:\n\tstatus = StatusCode.UNAVAILABLE\n\tdetails = \"failed to connect to all addresses; last error: UNAVAILABLE: ipv4:127.0.0.1:19530: Connection refused\"\n\tdebug_error_string = \"UNKNOWN:failed to connect to all addresses; last error: UNAVAILABLE: ipv4:127.0.0.1:19530: Connection refused {created_time:\"2023-11-20T13:09:57.2665051+00:00\", grpc_status:14}\"\n>",
      "\nDuring handling of the above exception, another exception occurred:\n",
      "\u001b[1;31mKeyboardInterrupt\u001b[0m                         Traceback (most recent call last)",
      "\u001b[1;32md:\\milvus\\similarity_search_example.ipynb Cell 18\u001b[0m line \u001b[0;36m4\n\u001b[0;32m      <a href='vscode-notebook-cell:/d%3A/milvus/similarity_search_example.ipynb#X23sZmlsZQ%3D%3D?line=0'>1</a>\u001b[0m \u001b[39m## Vector Similarity Search\u001b[39;00m\n\u001b[0;32m      <a href='vscode-notebook-cell:/d%3A/milvus/similarity_search_example.ipynb#X23sZmlsZQ%3D%3D?line=1'>2</a>\u001b[0m search_params \u001b[39m=\u001b[39m {\u001b[39m\"\u001b[39m\u001b[39mmetric_type\u001b[39m\u001b[39m\"\u001b[39m: \u001b[39m\"\u001b[39m\u001b[39mL2\u001b[39m\u001b[39m\"\u001b[39m, \u001b[39m\"\u001b[39m\u001b[39mparams\u001b[39m\u001b[39m\"\u001b[39m: {\u001b[39m\"\u001b[39m\u001b[39mnprobe\u001b[39m\u001b[39m\"\u001b[39m: \u001b[39m64\u001b[39m}}\n\u001b[1;32m----> <a href='vscode-notebook-cell:/d%3A/milvus/similarity_search_example.ipynb#X23sZmlsZQ%3D%3D?line=3'>4</a>\u001b[0m results \u001b[39m=\u001b[39m collection\u001b[39m.\u001b[39;49msearch(\n\u001b[0;32m      <a href='vscode-notebook-cell:/d%3A/milvus/similarity_search_example.ipynb#X23sZmlsZQ%3D%3D?line=4'>5</a>\u001b[0m \tdata\u001b[39m=\u001b[39;49m[test_message_vector],\n\u001b[0;32m      <a href='vscode-notebook-cell:/d%3A/milvus/similarity_search_example.ipynb#X23sZmlsZQ%3D%3D?line=5'>6</a>\u001b[0m \tanns_field\u001b[39m=\u001b[39;49m\u001b[39m\"\u001b[39;49m\u001b[39mmessage_embeddings\u001b[39;49m\u001b[39m\"\u001b[39;49m,\n\u001b[0;32m      <a href='vscode-notebook-cell:/d%3A/milvus/similarity_search_example.ipynb#X23sZmlsZQ%3D%3D?line=6'>7</a>\u001b[0m \tparam\u001b[39m=\u001b[39;49msearch_params,\n\u001b[0;32m      <a href='vscode-notebook-cell:/d%3A/milvus/similarity_search_example.ipynb#X23sZmlsZQ%3D%3D?line=7'>8</a>\u001b[0m \tlimit\u001b[39m=\u001b[39;49m\u001b[39m10\u001b[39;49m,\n\u001b[0;32m      <a href='vscode-notebook-cell:/d%3A/milvus/similarity_search_example.ipynb#X23sZmlsZQ%3D%3D?line=8'>9</a>\u001b[0m \texpr\u001b[39m=\u001b[39;49m\u001b[39mNone\u001b[39;49;00m,\n\u001b[0;32m     <a href='vscode-notebook-cell:/d%3A/milvus/similarity_search_example.ipynb#X23sZmlsZQ%3D%3D?line=9'>10</a>\u001b[0m \toutput_fields\u001b[39m=\u001b[39;49m[\u001b[39m'\u001b[39;49m\u001b[39mmessage\u001b[39;49m\u001b[39m'\u001b[39;49m],\n\u001b[0;32m     <a href='vscode-notebook-cell:/d%3A/milvus/similarity_search_example.ipynb#X23sZmlsZQ%3D%3D?line=10'>11</a>\u001b[0m )\n\u001b[0;32m     <a href='vscode-notebook-cell:/d%3A/milvus/similarity_search_example.ipynb#X23sZmlsZQ%3D%3D?line=12'>13</a>\u001b[0m results\n",
      "File \u001b[1;32mc:\\Users\\dhruv.nanavati\\AppData\\Local\\Programs\\Python\\Python311\\Lib\\site-packages\\pymilvus\\orm\\collection.py:783\u001b[0m, in \u001b[0;36mCollection.search\u001b[1;34m(self, data, anns_field, param, limit, expr, partition_names, output_fields, timeout, round_decimal, **kwargs)\u001b[0m\n\u001b[0;32m    780\u001b[0m     \u001b[39mreturn\u001b[39;00m SearchFuture(\u001b[39mNone\u001b[39;00m) \u001b[39mif\u001b[39;00m kwargs\u001b[39m.\u001b[39mget(\u001b[39m\"\u001b[39m\u001b[39m_async\u001b[39m\u001b[39m\"\u001b[39m, \u001b[39mFalse\u001b[39;00m) \u001b[39melse\u001b[39;00m resp\n\u001b[0;32m    782\u001b[0m conn \u001b[39m=\u001b[39m \u001b[39mself\u001b[39m\u001b[39m.\u001b[39m_get_connection()\n\u001b[1;32m--> 783\u001b[0m resp \u001b[39m=\u001b[39m conn\u001b[39m.\u001b[39;49msearch(\n\u001b[0;32m    784\u001b[0m     \u001b[39mself\u001b[39;49m\u001b[39m.\u001b[39;49m_name,\n\u001b[0;32m    785\u001b[0m     data,\n\u001b[0;32m    786\u001b[0m     anns_field,\n\u001b[0;32m    787\u001b[0m     param,\n\u001b[0;32m    788\u001b[0m     limit,\n\u001b[0;32m    789\u001b[0m     expr,\n\u001b[0;32m    790\u001b[0m     partition_names,\n\u001b[0;32m    791\u001b[0m     output_fields,\n\u001b[0;32m    792\u001b[0m     round_decimal,\n\u001b[0;32m    793\u001b[0m     timeout\u001b[39m=\u001b[39;49mtimeout,\n\u001b[0;32m    794\u001b[0m     schema\u001b[39m=\u001b[39;49m\u001b[39mself\u001b[39;49m\u001b[39m.\u001b[39;49m_schema_dict,\n\u001b[0;32m    795\u001b[0m     \u001b[39m*\u001b[39;49m\u001b[39m*\u001b[39;49mkwargs,\n\u001b[0;32m    796\u001b[0m )\n\u001b[0;32m    798\u001b[0m \u001b[39mreturn\u001b[39;00m SearchFuture(resp) \u001b[39mif\u001b[39;00m kwargs\u001b[39m.\u001b[39mget(\u001b[39m\"\u001b[39m\u001b[39m_async\u001b[39m\u001b[39m\"\u001b[39m, \u001b[39mFalse\u001b[39;00m) \u001b[39melse\u001b[39;00m resp\n",
      "File \u001b[1;32mc:\\Users\\dhruv.nanavati\\AppData\\Local\\Programs\\Python\\Python311\\Lib\\site-packages\\pymilvus\\decorators.py:125\u001b[0m, in \u001b[0;36merror_handler.<locals>.wrapper.<locals>.handler\u001b[1;34m(*args, **kwargs)\u001b[0m\n\u001b[0;32m    123\u001b[0m \u001b[39mtry\u001b[39;00m:\n\u001b[0;32m    124\u001b[0m     record_dict[\u001b[39m\"\u001b[39m\u001b[39mRPC start\u001b[39m\u001b[39m\"\u001b[39m] \u001b[39m=\u001b[39m \u001b[39mstr\u001b[39m(datetime\u001b[39m.\u001b[39mdatetime\u001b[39m.\u001b[39mnow())\n\u001b[1;32m--> 125\u001b[0m     \u001b[39mreturn\u001b[39;00m func(\u001b[39m*\u001b[39;49margs, \u001b[39m*\u001b[39;49m\u001b[39m*\u001b[39;49mkwargs)\n\u001b[0;32m    126\u001b[0m \u001b[39mexcept\u001b[39;00m MilvusException \u001b[39mas\u001b[39;00m e:\n\u001b[0;32m    127\u001b[0m     record_dict[\u001b[39m\"\u001b[39m\u001b[39mRPC error\u001b[39m\u001b[39m\"\u001b[39m] \u001b[39m=\u001b[39m \u001b[39mstr\u001b[39m(datetime\u001b[39m.\u001b[39mdatetime\u001b[39m.\u001b[39mnow())\n",
      "File \u001b[1;32mc:\\Users\\dhruv.nanavati\\AppData\\Local\\Programs\\Python\\Python311\\Lib\\site-packages\\pymilvus\\decorators.py:164\u001b[0m, in \u001b[0;36mtracing_request.<locals>.wrapper.<locals>.handler\u001b[1;34m(self, *args, **kwargs)\u001b[0m\n\u001b[0;32m    162\u001b[0m \u001b[39mif\u001b[39;00m req_id:\n\u001b[0;32m    163\u001b[0m     \u001b[39mself\u001b[39m\u001b[39m.\u001b[39mset_onetime_request_id(req_id)\n\u001b[1;32m--> 164\u001b[0m \u001b[39mreturn\u001b[39;00m func(\u001b[39mself\u001b[39;49m, \u001b[39m*\u001b[39;49margs, \u001b[39m*\u001b[39;49m\u001b[39m*\u001b[39;49mkwargs)\n",
      "File \u001b[1;32mc:\\Users\\dhruv.nanavati\\AppData\\Local\\Programs\\Python\\Python311\\Lib\\site-packages\\pymilvus\\decorators.py:90\u001b[0m, in \u001b[0;36mretry_on_rpc_failure.<locals>.wrapper.<locals>.handler\u001b[1;34m(*args, **kwargs)\u001b[0m\n\u001b[0;32m     84\u001b[0m         retry_msg \u001b[39m=\u001b[39m (\n\u001b[0;32m     85\u001b[0m             \u001b[39mf\u001b[39m\u001b[39m\"\u001b[39m\u001b[39m[\u001b[39m\u001b[39m{\u001b[39;00mfunc\u001b[39m.\u001b[39m\u001b[39m__name__\u001b[39m\u001b[39m}\u001b[39;00m\u001b[39m] retry:\u001b[39m\u001b[39m{\u001b[39;00mcounter\u001b[39m}\u001b[39;00m\u001b[39m, cost: \u001b[39m\u001b[39m{\u001b[39;00mback_off\u001b[39m:\u001b[39;00m\u001b[39m.2f\u001b[39m\u001b[39m}\u001b[39;00m\u001b[39ms, \u001b[39m\u001b[39m\"\u001b[39m\n\u001b[0;32m     86\u001b[0m             \u001b[39mf\u001b[39m\u001b[39m\"\u001b[39m\u001b[39mreason: <\u001b[39m\u001b[39m{\u001b[39;00me\u001b[39m.\u001b[39m\u001b[39m__class__\u001b[39m\u001b[39m.\u001b[39m\u001b[39m__name__\u001b[39m\u001b[39m}\u001b[39;00m\u001b[39m: \u001b[39m\u001b[39m{\u001b[39;00me\u001b[39m.\u001b[39mcode()\u001b[39m}\u001b[39;00m\u001b[39m, \u001b[39m\u001b[39m{\u001b[39;00me\u001b[39m.\u001b[39mdetails()\u001b[39m}\u001b[39;00m\u001b[39m>\u001b[39m\u001b[39m\"\u001b[39m\n\u001b[0;32m     87\u001b[0m         )\n\u001b[0;32m     88\u001b[0m         LOGGER\u001b[39m.\u001b[39mwarning(WARNING_COLOR\u001b[39m.\u001b[39mformat(retry_msg))\n\u001b[1;32m---> 90\u001b[0m     time\u001b[39m.\u001b[39msleep(back_off)\n\u001b[0;32m     91\u001b[0m     back_off \u001b[39m=\u001b[39m \u001b[39mmin\u001b[39m(back_off \u001b[39m*\u001b[39m back_off_multiplier, max_back_off)\n\u001b[0;32m     92\u001b[0m \u001b[39mexcept\u001b[39;00m MilvusException \u001b[39mas\u001b[39;00m e:\n",
      "\u001b[1;31mKeyboardInterrupt\u001b[0m: "
     ]
    }
   ],
   "source": [
    "## Vector Similarity Search\n",
    "search_params = {\"metric_type\": \"L2\", \"params\": {\"nprobe\": 64}}\n",
    "\n",
    "results = collection.search(\n",
    "\tdata=[test_message_vector],\n",
    "\tanns_field=\"message_embeddings\",\n",
    "\tparam=search_params,\n",
    "\tlimit=10,\n",
    "\texpr=None,\n",
    "\toutput_fields=['message'],\n",
    ")\n",
    "\n",
    "results"
   ]
  },
  {
   "cell_type": "code",
   "execution_count": null,
   "id": "accb7afa-26ab-4994-8588-e975b42cbe09",
   "metadata": {},
   "outputs": [],
   "source": []
  }
 ],
 "metadata": {
  "kernelspec": {
   "display_name": "Python 3 (ipykernel)",
   "language": "python",
   "name": "python3"
  },
  "language_info": {
   "codemirror_mode": {
    "name": "ipython",
    "version": 3
   },
   "file_extension": ".py",
   "mimetype": "text/x-python",
   "name": "python",
   "nbconvert_exporter": "python",
   "pygments_lexer": "ipython3",
   "version": "3.11.4"
  }
 },
 "nbformat": 4,
 "nbformat_minor": 5
}
